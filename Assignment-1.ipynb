{
 "cells": [
  {
   "cell_type": "code",
   "execution_count": null,
   "id": "c95c1a6e",
   "metadata": {},
   "outputs": [],
   "source": [
    "File = open(\"HarryPotterAndTheSorcerersStone.txt\", encoding = 'UTF-8')     #This helps in opening the file which is to be read"
   ]
  },
  {
   "cell_type": "code",
   "execution_count": null,
   "id": "5b9d67ed",
   "metadata": {},
   "outputs": [],
   "source": [
    "DictionaryOfWords = {}         #Dictionary mapping every word to a list (of indices of the words' occurences)\n",
    "Novel = []                     #List of all words in the order, in which they appear!\n",
    "\n",
    "\n",
    "\n",
    "i = 0                   #Counter Variable to keep track of index of words\n",
    "\n",
    "for line in File.readlines():     #Iterate over all lines present in the text\n",
    "    \n",
    "    #Look at Python's Conciseness!\n",
    "    \n",
    "    line = line.replace(\".\",\"\").replace(\",\",\"\").replace('?','').replace('!','').replace('[','').replace(']','')\\\n",
    "    .replace('(','').replace(')','').replace('%','').replace('/','')\n",
    "      \n",
    "    #COMPLETE THE CODE FROM HERE:\n",
    "    \n",
    "    #This would split the line into many different words, and iterate over these words\n",
    "    \n",
    "    for word in line.split(' '): \n",
    "                                                                             \n",
    "        if word in DictionaryOfWords.keys():     #If the word is already present in the dictionary\n",
    "            \n",
    "            # Because each word(key) has been mapped to a list(value)\n",
    "            # which is called using below command\n",
    "            DictionaryOfWords[word].append(i)        #Add the index into the pre-existing list for this word\n",
    "                                                                             \n",
    "        else:\n",
    "            \n",
    "            DictionaryOfWords[word] = [i]        # Create a new list of indices for this word, with a single element                             \n",
    "        \n",
    "        Novel.append(word)        #Add the Word in the Novel's ordered list of words\n",
    "                                  #Novel.append will just add the words one by one to its ordered list\n",
    "                                                                             \n",
    "        i+=1"
   ]
  },
  {
   "cell_type": "code",
   "execution_count": null,
   "id": "9ca6ede0",
   "metadata": {},
   "outputs": [],
   "source": [
    "#COMPLETE THE CODE FROM HERE:\n",
    "\n",
    "def GetQuery():\n",
    "   \n",
    "    word = input(\"What word do you wish to query for? \")        #Get Input from the user regarding what word s/he wants to query for\n",
    "\n",
    "    Number = input(\"How many results do you wish to see? \")      #Get Input from the user regarding how many results the user wants to see\n",
    "\n",
    "    return (word,Number)                 #Return as output a tuple of the word and the Number of results"
   ]
  },
  {
   "cell_type": "code",
   "execution_count": null,
   "id": "b0b6fc46",
   "metadata": {},
   "outputs": [],
   "source": [
    "def PrintContext(index):\n",
    "    \n",
    "    global Novel                          #Declares the list Novel as a Global Variable\n",
    "    \n",
    "    #COMPLETE THE CODE FROM HERE:\n",
    "    \n",
    "    for i in range(index-5, index+6) :           #Define the range so that the task above is fulfilled\n",
    "\n",
    "                print(Novel[i], end = ' ')          #Print the word (using List Indexing) with a space after that\n",
    "           \n",
    "    print('\\n')"
   ]
  },
  {
   "cell_type": "code",
   "execution_count": null,
   "id": "1c1952ad",
   "metadata": {},
   "outputs": [],
   "source": [
    "def PrintResult(word, NumQuery):\n",
    "  \n",
    "    global DictionaryOfWords                #Allows us to use the Dictionary as a global variable\n",
    "    \n",
    "    #COMPLETE THE CODE FROM HERE:\n",
    "    \n",
    "    L = DictionaryOfWords[word] \n",
    "    \n",
    "    for i in range(0,min(len(L),NumQuery)):\n",
    "        \n",
    "        PrintContext(L[i])             # Actually print the words surrounding the ith occurence of the given word\n",
    "                                       # The item(index) at ith position of List L is the index of the word in the actual\n",
    "                                       # Novel List. So L[i] will give the index of the word in List Novel, which is hence\n",
    "                                       # passed as argument."
   ]
  },
  {
   "cell_type": "code",
   "execution_count": null,
   "id": "2f1d18dd",
   "metadata": {},
   "outputs": [],
   "source": [
    "while 1>0 :   \n",
    "    \n",
    "    Choice = input('Press Y in order to Continue with the next query or N to end. Please press Enter after entering your choice!')\n",
    "    \n",
    "    #COMPLETE THE CODE FROM HERE:\n",
    "    \n",
    "    if Choice== 'Y' :                     # If the user wants to query \n",
    "        \n",
    "        a,b = GetQuery()                        # Use some of the past defined function to do so \n",
    "                                                # As the return value of GetQuery is a tuple of two items\n",
    "                                                # We use two variables to store and unpack the tuple   \n",
    "        PrintResult(a,int(b))                   # The key point is to use int as it is stored as a string by default  \n",
    "        \n",
    "    else:\n",
    "        \n",
    "        break                                 #Else end the loop"
   ]
  }
 ],
 "metadata": {
  "kernelspec": {
   "display_name": "Python 3",
   "language": "python",
   "name": "python3"
  },
  "language_info": {
   "codemirror_mode": {
    "name": "ipython",
    "version": 3
   },
   "file_extension": ".py",
   "mimetype": "text/x-python",
   "name": "python",
   "nbconvert_exporter": "python",
   "pygments_lexer": "ipython3",
   "version": "3.9.1"
  }
 },
 "nbformat": 4,
 "nbformat_minor": 5
}
